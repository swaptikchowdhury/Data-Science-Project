{
  "nbformat": 4,
  "nbformat_minor": 0,
  "metadata": {
    "colab": {
      "provenance": []
    },
    "kernelspec": {
      "name": "python3",
      "display_name": "Python 3"
    },
    "language_info": {
      "name": "python"
    }
  },
  "cells": [
    {
      "cell_type": "markdown",
      "source": [
        "This code is siumlating the oobservation by Nate Silver about herding in poll\n",
        "\n",
        "Link# https://www.natesilver.net/p/theres-more-herding-in-swing-state\n",
        "\n",
        "The method is inspired by @jonathan interviews"
      ],
      "metadata": {
        "id": "eHweg_2lLD8W"
      }
    },
    {
      "cell_type": "code",
      "execution_count": 2,
      "metadata": {
        "id": "EFDpYIhYKAOG"
      },
      "outputs": [],
      "source": [
        "import numpy as np\n",
        "import pandas as pd\n",
        "import matplotlib.pyplot as plt\n",
        "import scipy.stats as stats"
      ]
    },
    {
      "cell_type": "code",
      "source": [
        "#Simulation parameters\n",
        "np.random.seed (5208)\n",
        "sample_size_survey = 1000\n",
        "true_p_trump = 0.5\n",
        "true_p_harris = 1-true_p_trump"
      ],
      "metadata": {
        "id": "T96Vxt82K6tK"
      },
      "execution_count": 9,
      "outputs": []
    },
    {
      "cell_type": "code",
      "source": [
        "#Random Survey results drawn from binomial distribution\n",
        "trump_voters_survey = np.random.binomial(sample_size_survey, true_p_trump)\n",
        "trump_pct_sample = trump_voters_survey/sample_size_survey\n",
        "harris_pct_sample = (sample_size_survey-trump_voters_survey)/sample_size_survey\n",
        "\n",
        "print (\"Trump Survey Votes:\", trump_voters_survey)\n",
        "print(\"Trump Survey Share: {:.3}\".format(trump_pct_sample))\n",
        "print(\"Harris Survey Share: {:.3}\".format(harris_pct_sample))"
      ],
      "metadata": {
        "colab": {
          "base_uri": "https://localhost:8080/"
        },
        "id": "-x0zIPRHMQaI",
        "outputId": "b50ba042-949d-4a91-968c-3ebdc6fced50"
      },
      "execution_count": 8,
      "outputs": [
        {
          "output_type": "stream",
          "name": "stdout",
          "text": [
            "Trump Survey Votes: 497\n",
            "Trump Survey Share: 0.497\n",
            "Harris Survey Share: 0.503\n"
          ]
        }
      ]
    },
    {
      "cell_type": "markdown",
      "source": [
        "So with one experiment, we get a results of 49.7 vs 50.3 due to random chnace errors.\n",
        "\n",
        "So, simulating experiment \"n\" number of times"
      ],
      "metadata": {
        "id": "__Xn8PXsSnrF"
      }
    },
    {
      "cell_type": "code",
      "source": [
        "def gen_survey_data(sample_size_survey, true_p_trump, num_surveys):\n",
        "    trump_voters = np.random.binomial(sample_size_survey, true_p_trump, num_surveys)\n",
        "    trump_pct = trump_voters/sample_size_survey\n",
        "    harris_pct = 1-trump_pct\n",
        "    trum_harris_gap = trump_pct-harris_pct\n",
        "    trump_error = true_p_trump-trump_pct\n",
        "    harris_error = true_p_harris-harris_pct\n",
        "    results_df = pd.DataFrame({\"trump_pct\": trump_pct, \"harris_pct\": harris_pct, \"trum_harris_gap\": trum_harris_gap, \"trump_error\": trump_error, \"harris_error\": harris_error})\n",
        "    return results_df\n"
      ],
      "metadata": {
        "id": "OBTSMkahO6nm"
      },
      "execution_count": 10,
      "outputs": []
    },
    {
      "cell_type": "code",
      "source": [
        "num_surveys = 10\n",
        "results_df = 100*gen_survey_data(sample_size_survey, true_p_trump, num_surveys).round(2)\n",
        "results_df"
      ],
      "metadata": {
        "colab": {
          "base_uri": "https://localhost:8080/",
          "height": 363
        },
        "id": "d-GfZGE9R1Kq",
        "outputId": "e5766418-7706-4db1-a16d-b63058c044b7"
      },
      "execution_count": 13,
      "outputs": [
        {
          "output_type": "execute_result",
          "data": {
            "text/plain": [
              "   trump_pct  harris_pct  trum_harris_gap  trump_error  harris_error\n",
              "0       52.0        48.0              4.0         -2.0           2.0\n",
              "1       50.0        50.0             -0.0          0.0          -0.0\n",
              "2       50.0        50.0             -1.0          0.0          -0.0\n",
              "3       54.0        46.0              7.0         -4.0           4.0\n",
              "4       54.0        46.0              7.0         -4.0           4.0\n",
              "5       50.0        50.0             -0.0          0.0          -0.0\n",
              "6       51.0        49.0              3.0         -1.0           1.0\n",
              "7       47.0        53.0             -6.0          3.0          -3.0\n",
              "8       51.0        49.0              3.0         -1.0           1.0\n",
              "9       48.0        52.0             -5.0          3.0          -3.0"
            ],
            "text/html": [
              "\n",
              "  <div id=\"df-cc9e13e6-6c92-4da2-b0a2-cdcef1e6173c\" class=\"colab-df-container\">\n",
              "    <div>\n",
              "<style scoped>\n",
              "    .dataframe tbody tr th:only-of-type {\n",
              "        vertical-align: middle;\n",
              "    }\n",
              "\n",
              "    .dataframe tbody tr th {\n",
              "        vertical-align: top;\n",
              "    }\n",
              "\n",
              "    .dataframe thead th {\n",
              "        text-align: right;\n",
              "    }\n",
              "</style>\n",
              "<table border=\"1\" class=\"dataframe\">\n",
              "  <thead>\n",
              "    <tr style=\"text-align: right;\">\n",
              "      <th></th>\n",
              "      <th>trump_pct</th>\n",
              "      <th>harris_pct</th>\n",
              "      <th>trum_harris_gap</th>\n",
              "      <th>trump_error</th>\n",
              "      <th>harris_error</th>\n",
              "    </tr>\n",
              "  </thead>\n",
              "  <tbody>\n",
              "    <tr>\n",
              "      <th>0</th>\n",
              "      <td>52.0</td>\n",
              "      <td>48.0</td>\n",
              "      <td>4.0</td>\n",
              "      <td>-2.0</td>\n",
              "      <td>2.0</td>\n",
              "    </tr>\n",
              "    <tr>\n",
              "      <th>1</th>\n",
              "      <td>50.0</td>\n",
              "      <td>50.0</td>\n",
              "      <td>-0.0</td>\n",
              "      <td>0.0</td>\n",
              "      <td>-0.0</td>\n",
              "    </tr>\n",
              "    <tr>\n",
              "      <th>2</th>\n",
              "      <td>50.0</td>\n",
              "      <td>50.0</td>\n",
              "      <td>-1.0</td>\n",
              "      <td>0.0</td>\n",
              "      <td>-0.0</td>\n",
              "    </tr>\n",
              "    <tr>\n",
              "      <th>3</th>\n",
              "      <td>54.0</td>\n",
              "      <td>46.0</td>\n",
              "      <td>7.0</td>\n",
              "      <td>-4.0</td>\n",
              "      <td>4.0</td>\n",
              "    </tr>\n",
              "    <tr>\n",
              "      <th>4</th>\n",
              "      <td>54.0</td>\n",
              "      <td>46.0</td>\n",
              "      <td>7.0</td>\n",
              "      <td>-4.0</td>\n",
              "      <td>4.0</td>\n",
              "    </tr>\n",
              "    <tr>\n",
              "      <th>5</th>\n",
              "      <td>50.0</td>\n",
              "      <td>50.0</td>\n",
              "      <td>-0.0</td>\n",
              "      <td>0.0</td>\n",
              "      <td>-0.0</td>\n",
              "    </tr>\n",
              "    <tr>\n",
              "      <th>6</th>\n",
              "      <td>51.0</td>\n",
              "      <td>49.0</td>\n",
              "      <td>3.0</td>\n",
              "      <td>-1.0</td>\n",
              "      <td>1.0</td>\n",
              "    </tr>\n",
              "    <tr>\n",
              "      <th>7</th>\n",
              "      <td>47.0</td>\n",
              "      <td>53.0</td>\n",
              "      <td>-6.0</td>\n",
              "      <td>3.0</td>\n",
              "      <td>-3.0</td>\n",
              "    </tr>\n",
              "    <tr>\n",
              "      <th>8</th>\n",
              "      <td>51.0</td>\n",
              "      <td>49.0</td>\n",
              "      <td>3.0</td>\n",
              "      <td>-1.0</td>\n",
              "      <td>1.0</td>\n",
              "    </tr>\n",
              "    <tr>\n",
              "      <th>9</th>\n",
              "      <td>48.0</td>\n",
              "      <td>52.0</td>\n",
              "      <td>-5.0</td>\n",
              "      <td>3.0</td>\n",
              "      <td>-3.0</td>\n",
              "    </tr>\n",
              "  </tbody>\n",
              "</table>\n",
              "</div>\n",
              "    <div class=\"colab-df-buttons\">\n",
              "\n",
              "  <div class=\"colab-df-container\">\n",
              "    <button class=\"colab-df-convert\" onclick=\"convertToInteractive('df-cc9e13e6-6c92-4da2-b0a2-cdcef1e6173c')\"\n",
              "            title=\"Convert this dataframe to an interactive table.\"\n",
              "            style=\"display:none;\">\n",
              "\n",
              "  <svg xmlns=\"http://www.w3.org/2000/svg\" height=\"24px\" viewBox=\"0 -960 960 960\">\n",
              "    <path d=\"M120-120v-720h720v720H120Zm60-500h600v-160H180v160Zm220 220h160v-160H400v160Zm0 220h160v-160H400v160ZM180-400h160v-160H180v160Zm440 0h160v-160H620v160ZM180-180h160v-160H180v160Zm440 0h160v-160H620v160Z\"/>\n",
              "  </svg>\n",
              "    </button>\n",
              "\n",
              "  <style>\n",
              "    .colab-df-container {\n",
              "      display:flex;\n",
              "      gap: 12px;\n",
              "    }\n",
              "\n",
              "    .colab-df-convert {\n",
              "      background-color: #E8F0FE;\n",
              "      border: none;\n",
              "      border-radius: 50%;\n",
              "      cursor: pointer;\n",
              "      display: none;\n",
              "      fill: #1967D2;\n",
              "      height: 32px;\n",
              "      padding: 0 0 0 0;\n",
              "      width: 32px;\n",
              "    }\n",
              "\n",
              "    .colab-df-convert:hover {\n",
              "      background-color: #E2EBFA;\n",
              "      box-shadow: 0px 1px 2px rgba(60, 64, 67, 0.3), 0px 1px 3px 1px rgba(60, 64, 67, 0.15);\n",
              "      fill: #174EA6;\n",
              "    }\n",
              "\n",
              "    .colab-df-buttons div {\n",
              "      margin-bottom: 4px;\n",
              "    }\n",
              "\n",
              "    [theme=dark] .colab-df-convert {\n",
              "      background-color: #3B4455;\n",
              "      fill: #D2E3FC;\n",
              "    }\n",
              "\n",
              "    [theme=dark] .colab-df-convert:hover {\n",
              "      background-color: #434B5C;\n",
              "      box-shadow: 0px 1px 3px 1px rgba(0, 0, 0, 0.15);\n",
              "      filter: drop-shadow(0px 1px 2px rgba(0, 0, 0, 0.3));\n",
              "      fill: #FFFFFF;\n",
              "    }\n",
              "  </style>\n",
              "\n",
              "    <script>\n",
              "      const buttonEl =\n",
              "        document.querySelector('#df-cc9e13e6-6c92-4da2-b0a2-cdcef1e6173c button.colab-df-convert');\n",
              "      buttonEl.style.display =\n",
              "        google.colab.kernel.accessAllowed ? 'block' : 'none';\n",
              "\n",
              "      async function convertToInteractive(key) {\n",
              "        const element = document.querySelector('#df-cc9e13e6-6c92-4da2-b0a2-cdcef1e6173c');\n",
              "        const dataTable =\n",
              "          await google.colab.kernel.invokeFunction('convertToInteractive',\n",
              "                                                    [key], {});\n",
              "        if (!dataTable) return;\n",
              "\n",
              "        const docLinkHtml = 'Like what you see? Visit the ' +\n",
              "          '<a target=\"_blank\" href=https://colab.research.google.com/notebooks/data_table.ipynb>data table notebook</a>'\n",
              "          + ' to learn more about interactive tables.';\n",
              "        element.innerHTML = '';\n",
              "        dataTable['output_type'] = 'display_data';\n",
              "        await google.colab.output.renderOutput(dataTable, element);\n",
              "        const docLink = document.createElement('div');\n",
              "        docLink.innerHTML = docLinkHtml;\n",
              "        element.appendChild(docLink);\n",
              "      }\n",
              "    </script>\n",
              "  </div>\n",
              "\n",
              "\n",
              "<div id=\"df-964c7570-4265-4161-8622-33c040368adb\">\n",
              "  <button class=\"colab-df-quickchart\" onclick=\"quickchart('df-964c7570-4265-4161-8622-33c040368adb')\"\n",
              "            title=\"Suggest charts\"\n",
              "            style=\"display:none;\">\n",
              "\n",
              "<svg xmlns=\"http://www.w3.org/2000/svg\" height=\"24px\"viewBox=\"0 0 24 24\"\n",
              "     width=\"24px\">\n",
              "    <g>\n",
              "        <path d=\"M19 3H5c-1.1 0-2 .9-2 2v14c0 1.1.9 2 2 2h14c1.1 0 2-.9 2-2V5c0-1.1-.9-2-2-2zM9 17H7v-7h2v7zm4 0h-2V7h2v10zm4 0h-2v-4h2v4z\"/>\n",
              "    </g>\n",
              "</svg>\n",
              "  </button>\n",
              "\n",
              "<style>\n",
              "  .colab-df-quickchart {\n",
              "      --bg-color: #E8F0FE;\n",
              "      --fill-color: #1967D2;\n",
              "      --hover-bg-color: #E2EBFA;\n",
              "      --hover-fill-color: #174EA6;\n",
              "      --disabled-fill-color: #AAA;\n",
              "      --disabled-bg-color: #DDD;\n",
              "  }\n",
              "\n",
              "  [theme=dark] .colab-df-quickchart {\n",
              "      --bg-color: #3B4455;\n",
              "      --fill-color: #D2E3FC;\n",
              "      --hover-bg-color: #434B5C;\n",
              "      --hover-fill-color: #FFFFFF;\n",
              "      --disabled-bg-color: #3B4455;\n",
              "      --disabled-fill-color: #666;\n",
              "  }\n",
              "\n",
              "  .colab-df-quickchart {\n",
              "    background-color: var(--bg-color);\n",
              "    border: none;\n",
              "    border-radius: 50%;\n",
              "    cursor: pointer;\n",
              "    display: none;\n",
              "    fill: var(--fill-color);\n",
              "    height: 32px;\n",
              "    padding: 0;\n",
              "    width: 32px;\n",
              "  }\n",
              "\n",
              "  .colab-df-quickchart:hover {\n",
              "    background-color: var(--hover-bg-color);\n",
              "    box-shadow: 0 1px 2px rgba(60, 64, 67, 0.3), 0 1px 3px 1px rgba(60, 64, 67, 0.15);\n",
              "    fill: var(--button-hover-fill-color);\n",
              "  }\n",
              "\n",
              "  .colab-df-quickchart-complete:disabled,\n",
              "  .colab-df-quickchart-complete:disabled:hover {\n",
              "    background-color: var(--disabled-bg-color);\n",
              "    fill: var(--disabled-fill-color);\n",
              "    box-shadow: none;\n",
              "  }\n",
              "\n",
              "  .colab-df-spinner {\n",
              "    border: 2px solid var(--fill-color);\n",
              "    border-color: transparent;\n",
              "    border-bottom-color: var(--fill-color);\n",
              "    animation:\n",
              "      spin 1s steps(1) infinite;\n",
              "  }\n",
              "\n",
              "  @keyframes spin {\n",
              "    0% {\n",
              "      border-color: transparent;\n",
              "      border-bottom-color: var(--fill-color);\n",
              "      border-left-color: var(--fill-color);\n",
              "    }\n",
              "    20% {\n",
              "      border-color: transparent;\n",
              "      border-left-color: var(--fill-color);\n",
              "      border-top-color: var(--fill-color);\n",
              "    }\n",
              "    30% {\n",
              "      border-color: transparent;\n",
              "      border-left-color: var(--fill-color);\n",
              "      border-top-color: var(--fill-color);\n",
              "      border-right-color: var(--fill-color);\n",
              "    }\n",
              "    40% {\n",
              "      border-color: transparent;\n",
              "      border-right-color: var(--fill-color);\n",
              "      border-top-color: var(--fill-color);\n",
              "    }\n",
              "    60% {\n",
              "      border-color: transparent;\n",
              "      border-right-color: var(--fill-color);\n",
              "    }\n",
              "    80% {\n",
              "      border-color: transparent;\n",
              "      border-right-color: var(--fill-color);\n",
              "      border-bottom-color: var(--fill-color);\n",
              "    }\n",
              "    90% {\n",
              "      border-color: transparent;\n",
              "      border-bottom-color: var(--fill-color);\n",
              "    }\n",
              "  }\n",
              "</style>\n",
              "\n",
              "  <script>\n",
              "    async function quickchart(key) {\n",
              "      const quickchartButtonEl =\n",
              "        document.querySelector('#' + key + ' button');\n",
              "      quickchartButtonEl.disabled = true;  // To prevent multiple clicks.\n",
              "      quickchartButtonEl.classList.add('colab-df-spinner');\n",
              "      try {\n",
              "        const charts = await google.colab.kernel.invokeFunction(\n",
              "            'suggestCharts', [key], {});\n",
              "      } catch (error) {\n",
              "        console.error('Error during call to suggestCharts:', error);\n",
              "      }\n",
              "      quickchartButtonEl.classList.remove('colab-df-spinner');\n",
              "      quickchartButtonEl.classList.add('colab-df-quickchart-complete');\n",
              "    }\n",
              "    (() => {\n",
              "      let quickchartButtonEl =\n",
              "        document.querySelector('#df-964c7570-4265-4161-8622-33c040368adb button');\n",
              "      quickchartButtonEl.style.display =\n",
              "        google.colab.kernel.accessAllowed ? 'block' : 'none';\n",
              "    })();\n",
              "  </script>\n",
              "</div>\n",
              "\n",
              "  <div id=\"id_344abf6b-a85a-4f7e-9761-48888aa99d09\">\n",
              "    <style>\n",
              "      .colab-df-generate {\n",
              "        background-color: #E8F0FE;\n",
              "        border: none;\n",
              "        border-radius: 50%;\n",
              "        cursor: pointer;\n",
              "        display: none;\n",
              "        fill: #1967D2;\n",
              "        height: 32px;\n",
              "        padding: 0 0 0 0;\n",
              "        width: 32px;\n",
              "      }\n",
              "\n",
              "      .colab-df-generate:hover {\n",
              "        background-color: #E2EBFA;\n",
              "        box-shadow: 0px 1px 2px rgba(60, 64, 67, 0.3), 0px 1px 3px 1px rgba(60, 64, 67, 0.15);\n",
              "        fill: #174EA6;\n",
              "      }\n",
              "\n",
              "      [theme=dark] .colab-df-generate {\n",
              "        background-color: #3B4455;\n",
              "        fill: #D2E3FC;\n",
              "      }\n",
              "\n",
              "      [theme=dark] .colab-df-generate:hover {\n",
              "        background-color: #434B5C;\n",
              "        box-shadow: 0px 1px 3px 1px rgba(0, 0, 0, 0.15);\n",
              "        filter: drop-shadow(0px 1px 2px rgba(0, 0, 0, 0.3));\n",
              "        fill: #FFFFFF;\n",
              "      }\n",
              "    </style>\n",
              "    <button class=\"colab-df-generate\" onclick=\"generateWithVariable('results_df')\"\n",
              "            title=\"Generate code using this dataframe.\"\n",
              "            style=\"display:none;\">\n",
              "\n",
              "  <svg xmlns=\"http://www.w3.org/2000/svg\" height=\"24px\"viewBox=\"0 0 24 24\"\n",
              "       width=\"24px\">\n",
              "    <path d=\"M7,19H8.4L18.45,9,17,7.55,7,17.6ZM5,21V16.75L18.45,3.32a2,2,0,0,1,2.83,0l1.4,1.43a1.91,1.91,0,0,1,.58,1.4,1.91,1.91,0,0,1-.58,1.4L9.25,21ZM18.45,9,17,7.55Zm-12,3A5.31,5.31,0,0,0,4.9,8.1,5.31,5.31,0,0,0,1,6.5,5.31,5.31,0,0,0,4.9,4.9,5.31,5.31,0,0,0,6.5,1,5.31,5.31,0,0,0,8.1,4.9,5.31,5.31,0,0,0,12,6.5,5.46,5.46,0,0,0,6.5,12Z\"/>\n",
              "  </svg>\n",
              "    </button>\n",
              "    <script>\n",
              "      (() => {\n",
              "      const buttonEl =\n",
              "        document.querySelector('#id_344abf6b-a85a-4f7e-9761-48888aa99d09 button.colab-df-generate');\n",
              "      buttonEl.style.display =\n",
              "        google.colab.kernel.accessAllowed ? 'block' : 'none';\n",
              "\n",
              "      buttonEl.onclick = () => {\n",
              "        google.colab.notebook.generateWithVariable('results_df');\n",
              "      }\n",
              "      })();\n",
              "    </script>\n",
              "  </div>\n",
              "\n",
              "    </div>\n",
              "  </div>\n"
            ],
            "application/vnd.google.colaboratory.intrinsic+json": {
              "type": "dataframe",
              "variable_name": "results_df",
              "summary": "{\n  \"name\": \"results_df\",\n  \"rows\": 10,\n  \"fields\": [\n    {\n      \"column\": \"trump_pct\",\n      \"properties\": {\n        \"dtype\": \"number\",\n        \"std\": 2.263232692902394,\n        \"min\": 47.0,\n        \"max\": 54.0,\n        \"num_unique_values\": 6,\n        \"samples\": [\n          52.0,\n          50.0,\n          48.0\n        ],\n        \"semantic_type\": \"\",\n        \"description\": \"\"\n      }\n    },\n    {\n      \"column\": \"harris_pct\",\n      \"properties\": {\n        \"dtype\": \"number\",\n        \"std\": 2.263232692902394,\n        \"min\": 46.0,\n        \"max\": 53.0,\n        \"num_unique_values\": 6,\n        \"samples\": [\n          48.0,\n          50.0,\n          52.0\n        ],\n        \"semantic_type\": \"\",\n        \"description\": \"\"\n      }\n    },\n    {\n      \"column\": \"trum_harris_gap\",\n      \"properties\": {\n        \"dtype\": \"number\",\n        \"std\": 4.4671641514002545,\n        \"min\": -6.0,\n        \"max\": 7.000000000000001,\n        \"num_unique_values\": 7,\n        \"samples\": [\n          4.0,\n          -0.0,\n          -6.0\n        ],\n        \"semantic_type\": \"\",\n        \"description\": \"\"\n      }\n    },\n    {\n      \"column\": \"trump_error\",\n      \"properties\": {\n        \"dtype\": \"number\",\n        \"std\": 2.4129281427805145,\n        \"min\": -4.0,\n        \"max\": 3.0,\n        \"num_unique_values\": 5,\n        \"samples\": [\n          0.0,\n          3.0,\n          -4.0\n        ],\n        \"semantic_type\": \"\",\n        \"description\": \"\"\n      }\n    },\n    {\n      \"column\": \"harris_error\",\n      \"properties\": {\n        \"dtype\": \"number\",\n        \"std\": 2.4129281427805145,\n        \"min\": -3.0,\n        \"max\": 4.0,\n        \"num_unique_values\": 5,\n        \"samples\": [\n          -0.0,\n          -3.0,\n          4.0\n        ],\n        \"semantic_type\": \"\",\n        \"description\": \"\"\n      }\n    }\n  ]\n}"
            }
          },
          "metadata": {},
          "execution_count": 13
        }
      ]
    },
    {
      "cell_type": "code",
      "source": [
        "num_surveys = 10000\n",
        "results = gen_survey_data(sample_size_survey, true_p_trump, num_surveys)\n",
        "\n",
        "trump_error_p2_5 = results[\"trump_error\"].quantile(0.025)\n",
        "trump_error_p97_5 = results[\"trump_error\"].quantile(0.975)\n",
        "\n",
        "harris_error_p2_5= results[\"harris_error\"].quantile(0.025)\n",
        "harris_error_p97_5= results[\"harris_error\"].quantile(0.975)\n",
        "\n",
        "trum_harris_gap_p2_5 = results[\"trum_harris_gap\"].quantile(0.025)\n",
        "trum_harris_gap_p97_5 = results[\"trum_harris_gap\"].quantile(0.975)"
      ],
      "metadata": {
        "id": "Qz7xwkCzTjqY"
      },
      "execution_count": 19,
      "outputs": []
    },
    {
      "cell_type": "code",
      "source": [
        "print(trump_error_p2_5, trump_error_p97_5)\n",
        "print(harris_error_p2_5, harris_error_p97_5)\n",
        "print(trum_harris_gap_p2_5, trum_harris_gap_p97_5)"
      ],
      "metadata": {
        "colab": {
          "base_uri": "https://localhost:8080/"
        },
        "id": "4AsjSkcBfIeO",
        "outputId": "f0843e70-2e86-4543-82b1-05beaa25a2a9"
      },
      "execution_count": 32,
      "outputs": [
        {
          "output_type": "stream",
          "name": "stdout",
          "text": [
            "-0.031000000000000028 0.031000000000000028\n",
            "-0.031000000000000028 0.031000000000000028\n",
            "-0.062000000000000055 0.062000000000000055\n"
          ]
        }
      ]
    },
    {
      "cell_type": "code",
      "source": [
        "Percentile = {\n",
        "    \"trump\": (trump_error_p2_5, trump_error_p97_5),\n",
        "    \"harris\": (harris_error_p2_5, harris_error_p97_5),\n",
        "}\n",
        "#print(Percentile)\n",
        "candidates = [\"trump\", \"harris\"]\n",
        "\n",
        "for candidate in candidates:\n",
        "    plt.figure()\n",
        "    plt.hist(results[f'{candidate}_error'], bins =10)\n",
        "    plt.title(f\"{candidate.capitalize()}Polling Error Distribution\")\n",
        "\n",
        "    #Get the current y-axis limits\n",
        "    y_min, y_max = plt.ylim()\n",
        "    p2_5, p97_5 = Percentile[candidate]\n",
        "\n",
        "    #Add Vertical Lines for percentile\n",
        "    plt.vlines(p2_5, y_min, y_max, color=\"red\", linestyle= \"--\", label=\"2.5th percentile\")\n",
        "    plt.vlines(p97_5, y_min, y_max, color=\"red\", linestyle= \"--\", label=\"97.5th percentile\")\n",
        "\n",
        "    plt.xlim([-0.06,0.06])\n",
        "\n",
        "    #Add test labels near the lines\n",
        "    plt.text(p2_5, y_max*0.95, f\"{p2_5:.3f}\", rotation = 0, verticalalignment=\"top\")\n",
        "    plt.text(p97_5, y_max*0.95, f\"{p97_5:.3f}\", rotation = 0, verticalalignment=\"top\")\n",
        "\n",
        "    plt.legend()\n",
        "    plt.show()\n",
        "\n"
      ],
      "metadata": {
        "colab": {
          "base_uri": "https://localhost:8080/",
          "height": 887
        },
        "id": "n8OGoY4aZwj0",
        "outputId": "e7b206f2-b684-44fd-98a8-81694382b207"
      },
      "execution_count": 27,
      "outputs": [
        {
          "output_type": "display_data",
          "data": {
            "text/plain": [
              "<Figure size 640x480 with 1 Axes>"
            ],
            "image/png": "[encoded data removed]"
          },
          "metadata": {}
        },
        {
          "output_type": "display_data",
          "data": {
            "text/plain": [
              "<Figure size 640x480 with 1 Axes>"
            ],
            "image/png": "[encoded data removed]"
          },
          "metadata": {}
        }
      ]
    },
    {
      "cell_type": "code",
      "source": [
        "percentiles = {\n",
        "    \"trump_harris_gap\": (trum_harris_gap_p2_5, trum_harris_gap_p97_5)\n",
        "}\n",
        "\n",
        "plt.figure()\n",
        "plt.hist(results[\"trum_harris_gap\"], bins =10)\n",
        "plt.title(f\"Trump-Harris Gap Distribution\")\n",
        "\n",
        "# Y-axis limits\n",
        "\n",
        "y_min, y_max = plt.ylim()\n",
        "p2_5, p97 = percentiles[\"trump_harris_gap\"]\n",
        "\n",
        "#Add Vertical Lines for percentile\n",
        "plt.vlines(p2_5, y_min, y_max, color=\"red\", linestyle= \"--\", label=\"2.5th percentile\")\n",
        "plt.vlines(p97_5, y_min, y_max, color=\"red\", linestyle= \"--\", label=\"97.5th percentile\")\n"
      ],
      "metadata": {
        "colab": {
          "base_uri": "https://localhost:8080/",
          "height": 470
        },
        "id": "bFlte3VGi6If",
        "outputId": "33447c52-3302-4072-ba69-b656f2172d17"
      },
      "execution_count": 34,
      "outputs": [
        {
          "output_type": "execute_result",
          "data": {
            "text/plain": [
              "<matplotlib.collections.LineCollection at 0x7b2adc553910>"
            ]
          },
          "metadata": {},
          "execution_count": 34
        },
        {
          "output_type": "display_data",
          "data": {
            "text/plain": [
              "<Figure size 640x480 with 1 Axes>"
            ],
            "image/png": "[encoded data removed]"
          },
          "metadata": {}
        }
      ]
    },
    {
      "cell_type": "markdown",
      "source": [
        "Few Observations:\n",
        "\n",
        "1. So the error rate is closely bunched around O with the error rate being 3% for the error distribution\n",
        "2. As it 1 for 1, the gap swings from 6% on either side. So a error rate of 3 % for trump means 3% for harris as well"
      ],
      "metadata": {
        "id": "wK70uqcmin3i"
      }
    },
    {
      "cell_type": "code",
      "source": [
        "#proportion of surveys showing gap less that 2.5 points in either direction\n",
        "\n",
        "gap_less_than_2_5 = (results[\"trum_harris_gap\"]>=-0.025) & (results[\"trum_harris_gap\"]<=0.025)\n",
        "np.mean(gap_less_than_2_5)"
      ],
      "metadata": {
        "colab": {
          "base_uri": "https://localhost:8080/"
        },
        "id": "86NuoUiglK8-",
        "outputId": "0c05fe56-d2fc-4717-c233-e6beb51095d1"
      },
      "execution_count": 33,
      "outputs": [
        {
          "output_type": "execute_result",
          "data": {
            "text/plain": [
              "0.5703"
            ]
          },
          "metadata": {},
          "execution_count": 33
        }
      ]
    },
    {
      "cell_type": "markdown",
      "source": [
        "57% of the surveys (out of 10000 survey conduted, each survey having 1000 participants) have less that 2.5 points in either direction. this is the observation made by Nate silver when he commented that 80% of the polls in swing state were less than in 2.5 points in either directions.  "
      ],
      "metadata": {
        "id": "2DotkCuXnIGu"
      }
    },
    {
      "cell_type": "code",
      "source": [
        "np.random.seed(42)\n",
        "gaps = list()\n",
        "num_experiments = 10000# where one experimnet is 229 set of surveys\n",
        "num_surveys=229\n",
        "survey_sample_size= 900\n",
        "trump_true_p = 0.5\n",
        "\n",
        "for i in range(num_experiments):\n",
        "  results=gen_survey_data(survey_sample_size, trump_true_p, num_surveys)\n",
        "  gaps_within_2_5 = (results[\"trum_harris_gap\"]>=-0.025) & (results[\"trum_harris_gap\"]<=0.025)\n",
        "  gaps.append(np.mean(gaps_within_2_5))\n"
      ],
      "metadata": {
        "id": "dLoM_7sFnomK"
      },
      "execution_count": 37,
      "outputs": []
    },
    {
      "cell_type": "code",
      "source": [
        "plt.hist(gaps, bins=10)\n",
        "plt.title (\"Distribution of Survey Shares within 2.5 points\")\n",
        "plt.xlim([0.4,0.9])\n",
        "y_min, y_max = plt.ylim()\n",
        "plt.vlines(0.8, y_min, y_max, color=\"red\", linestyle= \"--\", label=\"80pct of polls within 2.5 points\")\n",
        "plt.show()"
      ],
      "metadata": {
        "colab": {
          "base_uri": "https://localhost:8080/",
          "height": 452
        },
        "id": "tdZvSAgO3nlA",
        "outputId": "d9d31261-3661-4df5-d194-1d624c8334c3"
      },
      "execution_count": 38,
      "outputs": [
        {
          "output_type": "display_data",
          "data": {
            "text/plain": [
              "<Figure size 640x480 with 1 Axes>"
            ],
            "image/png": "[encoded data removed]"
          },
          "metadata": {}
        }
      ]
    },
    {
      "cell_type": "code",
      "source": [
        "# Probability of getting 80 % of survey within 2.5 points\n",
        "t_stat = (0.80-np.mean(gaps))/np.std(gaps)\n",
        "#This calcualtes t-statistic and then uses it to determine the probability of observing a sample mean of 0.8 or less, given a null hypothesis is np.mean(gaps) or 0.556\n",
        "print(t_stat)\n",
        "print(stats.norm.cdf(-1*t_stat))"
      ],
      "metadata": {
        "colab": {
          "base_uri": "https://localhost:8080/"
        },
        "id": "pUebX6Wd4jAi",
        "outputId": "d3c480f3-f852-4c47-905e-ff452ef42261"
      },
      "execution_count": 39,
      "outputs": [
        {
          "output_type": "stream",
          "name": "stdout",
          "text": [
            "7.318163036022451\n",
            "1.256941679266891e-13\n"
          ]
        }
      ]
    }
  ]
}